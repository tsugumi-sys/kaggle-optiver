{
 "cells": [
  {
   "cell_type": "code",
   "execution_count": 1,
   "id": "connected-bolivia",
   "metadata": {},
   "outputs": [],
   "source": [
    "import pandas as pd\n",
    "import numpy as np\n",
    "import seaborn as sns\n",
    "import matplotlib.pyplot as plt\n",
    "import os\n",
    "import json\n",
    "\n",
    "feature_json_root = './feature_importances/drop_outliers/'"
   ]
  },
  {
   "cell_type": "code",
   "execution_count": 2,
   "id": "desperate-drilling",
   "metadata": {},
   "outputs": [
    {
     "data": {
      "text/plain": [
       "['feature_importance_gain (1).json']"
      ]
     },
     "execution_count": 2,
     "metadata": {},
     "output_type": "execute_result"
    }
   ],
   "source": [
    "os.listdir(feature_json_root)"
   ]
  },
  {
   "cell_type": "code",
   "execution_count": 4,
   "id": "entire-essay",
   "metadata": {},
   "outputs": [
    {
     "data": {
      "text/html": [
       "<div>\n",
       "<style scoped>\n",
       "    .dataframe tbody tr th:only-of-type {\n",
       "        vertical-align: middle;\n",
       "    }\n",
       "\n",
       "    .dataframe tbody tr th {\n",
       "        vertical-align: top;\n",
       "    }\n",
       "\n",
       "    .dataframe thead th {\n",
       "        text-align: right;\n",
       "    }\n",
       "</style>\n",
       "<table border=\"1\" class=\"dataframe\">\n",
       "  <thead>\n",
       "    <tr style=\"text-align: right;\">\n",
       "      <th></th>\n",
       "      <th>feature_name</th>\n",
       "      <th>gain_importance</th>\n",
       "    </tr>\n",
       "  </thead>\n",
       "  <tbody>\n",
       "    <tr>\n",
       "      <th>8</th>\n",
       "      <td>log_return1_realized_volatility</td>\n",
       "      <td>200584.435448</td>\n",
       "    </tr>\n",
       "    <tr>\n",
       "      <th>104</th>\n",
       "      <td>log_return1_realized_volatility_150</td>\n",
       "      <td>169712.330908</td>\n",
       "    </tr>\n",
       "    <tr>\n",
       "      <th>0</th>\n",
       "      <td>stock_id</td>\n",
       "      <td>14190.946215</td>\n",
       "    </tr>\n",
       "    <tr>\n",
       "      <th>12</th>\n",
       "      <td>log_return2_realized_volatility</td>\n",
       "      <td>14052.130403</td>\n",
       "    </tr>\n",
       "    <tr>\n",
       "      <th>72</th>\n",
       "      <td>log_return1_realized_volatility_300</td>\n",
       "      <td>13276.820839</td>\n",
       "    </tr>\n",
       "  </tbody>\n",
       "</table>\n",
       "</div>"
      ],
      "text/plain": [
       "                            feature_name  gain_importance\n",
       "8        log_return1_realized_volatility    200584.435448\n",
       "104  log_return1_realized_volatility_150    169712.330908\n",
       "0                               stock_id     14190.946215\n",
       "12       log_return2_realized_volatility     14052.130403\n",
       "72   log_return1_realized_volatility_300     13276.820839"
      ]
     },
     "execution_count": 4,
     "metadata": {},
     "output_type": "execute_result"
    }
   ],
   "source": [
    "# load feature importance gain data\n",
    "f_gain = open(feature_json_root + 'feature_importance_gain (1).json')\n",
    "data_gain = json.load(f_gain)\n",
    "f_gain.close()\n",
    "imp_gain = pd.DataFrame({ 'feature_name': data_gain.keys(), 'gain_importance': data_gain.values() })\n",
    "imp_gain = imp_gain.sort_values(by='gain_importance', ascending=False)\n",
    "imp_gain.head()\n",
    "# load feature importance split data\n",
    "# f_split = open(feature_json_root + 'feature_importance_split.json')\n",
    "# data_split = json.load(f_split)\n",
    "# f_split.close()\n",
    "# imp_split = pd.DataFrame({ 'feature_name': data_split.keys(), 'split_importance': data_split.values() })\n",
    "# imp_split = imp_split.sort_values(by='split_importance', ascending=False)\n",
    "\n",
    "# imp = pd.merge(imp_split, imp_gain, on=['feature_name'], how = 'left')\n",
    "# imp['sum'] = imp['gain_importance'] + imp['split_importance']\n",
    "# print(\"The NaN count in imp : imp_gain : imp_split\", imp.isna().sum().sum(), imp_gain.isna().sum().sum(), imp_split.isna().sum().sum())"
   ]
  },
  {
   "cell_type": "code",
   "execution_count": 7,
   "id": "fourth-european",
   "metadata": {},
   "outputs": [
    {
     "data": {
      "text/html": [
       "<div>\n",
       "<style scoped>\n",
       "    .dataframe tbody tr th:only-of-type {\n",
       "        vertical-align: middle;\n",
       "    }\n",
       "\n",
       "    .dataframe tbody tr th {\n",
       "        vertical-align: top;\n",
       "    }\n",
       "\n",
       "    .dataframe thead th {\n",
       "        text-align: right;\n",
       "    }\n",
       "</style>\n",
       "<table border=\"1\" class=\"dataframe\">\n",
       "  <thead>\n",
       "    <tr style=\"text-align: right;\">\n",
       "      <th></th>\n",
       "      <th>gain_importance</th>\n",
       "    </tr>\n",
       "  </thead>\n",
       "  <tbody>\n",
       "    <tr>\n",
       "      <th>count</th>\n",
       "      <td>241.000000</td>\n",
       "    </tr>\n",
       "    <tr>\n",
       "      <th>mean</th>\n",
       "      <td>2082.191344</td>\n",
       "    </tr>\n",
       "    <tr>\n",
       "      <th>std</th>\n",
       "      <td>16928.579205</td>\n",
       "    </tr>\n",
       "    <tr>\n",
       "      <th>min</th>\n",
       "      <td>0.000000</td>\n",
       "    </tr>\n",
       "    <tr>\n",
       "      <th>25%</th>\n",
       "      <td>48.983938</td>\n",
       "    </tr>\n",
       "    <tr>\n",
       "      <th>50%</th>\n",
       "      <td>93.806897</td>\n",
       "    </tr>\n",
       "    <tr>\n",
       "      <th>75%</th>\n",
       "      <td>462.383746</td>\n",
       "    </tr>\n",
       "    <tr>\n",
       "      <th>max</th>\n",
       "      <td>200584.435448</td>\n",
       "    </tr>\n",
       "  </tbody>\n",
       "</table>\n",
       "</div>"
      ],
      "text/plain": [
       "       gain_importance\n",
       "count       241.000000\n",
       "mean       2082.191344\n",
       "std       16928.579205\n",
       "min           0.000000\n",
       "25%          48.983938\n",
       "50%          93.806897\n",
       "75%         462.383746\n",
       "max      200584.435448"
      ]
     },
     "execution_count": 7,
     "metadata": {},
     "output_type": "execute_result"
    }
   ],
   "source": [
    "imp_gain.describe()"
   ]
  },
  {
   "cell_type": "code",
   "execution_count": 8,
   "id": "designing-cursor",
   "metadata": {},
   "outputs": [],
   "source": [
    "# select gain data\n",
    "percent = [25, 40, 50, 75]\n",
    "threshold = [48, 80, 93, 462]\n",
    "for i in range(3):\n",
    "    imp_gain.loc[imp_gain['gain_importance'] > threshold[i]].to_csv(f'features_gain_importance_{percent[i]}percent.csv')"
   ]
  },
  {
   "cell_type": "code",
   "execution_count": null,
   "id": "amateur-signature",
   "metadata": {},
   "outputs": [],
   "source": [
    "fig, ax = plt.subplots(figsize=(10, 20))\n",
    "sns.set_color_codes(\"pastel\")\n",
    "sns.barplot(x=\"gain_importance\", y=\"feature_name\", data=imp.loc[(imp['gain_importance'] > 126) & (imp['gain_importance'] < 25000)].sort_values(by='gain_importance', ascending=False), ax=ax, color='b')\n",
    "ax.set_title('gain importance')"
   ]
  },
  {
   "cell_type": "code",
   "execution_count": null,
   "id": "statewide-store",
   "metadata": {},
   "outputs": [],
   "source": [
    "fig, ax = plt.subplots(figsize=(10, 20))\n",
    "sns.set_color_codes(\"pastel\")\n",
    "sns.barplot(x=\"split_importance\", y=\"feature_name\", data=imp.loc[imp['split_importance'] > 163].sort_values(by='split_importance', ascending=False), ax=ax, color='b')\n",
    "ax.set_title('split importance')"
   ]
  },
  {
   "cell_type": "code",
   "execution_count": null,
   "id": "parliamentary-charleston",
   "metadata": {},
   "outputs": [],
   "source": [
    "fig, ax = plt.subplots(figsize=(10, 20))\n",
    "sns.set_color_codes(\"pastel\")\n",
    "sns.barplot(x=\"sum\", y=\"feature_name\", data=imp.loc[imp['sum'] > 280].sort_values(by='sum', ascending=False), ax=ax, color='b')\n",
    "ax.set_title('sum importance')"
   ]
  },
  {
   "cell_type": "code",
   "execution_count": null,
   "id": "valuable-nicaragua",
   "metadata": {},
   "outputs": [],
   "source": [
    "imp.loc[imp['sum'] > 281].to_csv('selected_feature_by_sum50percent.csv')"
   ]
  },
  {
   "cell_type": "code",
   "execution_count": null,
   "id": "chicken-essex",
   "metadata": {},
   "outputs": [],
   "source": [
    "imp.loc[imp['sum'] > 750].to_csv('selected_feature_by_sum75percent.csv')"
   ]
  },
  {
   "cell_type": "code",
   "execution_count": null,
   "id": "written-criminal",
   "metadata": {},
   "outputs": [],
   "source": [
    "imp.loc[imp['sum'] > 200].to_csv('selected_feature_by_sum25percent.csv')"
   ]
  },
  {
   "cell_type": "code",
   "execution_count": null,
   "id": "silver-composer",
   "metadata": {},
   "outputs": [],
   "source": []
  }
 ],
 "metadata": {
  "kernelspec": {
   "display_name": "Python 3",
   "language": "python",
   "name": "python3"
  },
  "language_info": {
   "codemirror_mode": {
    "name": "ipython",
    "version": 3
   },
   "file_extension": ".py",
   "mimetype": "text/x-python",
   "name": "python",
   "nbconvert_exporter": "python",
   "pygments_lexer": "ipython3",
   "version": "3.7.9"
  }
 },
 "nbformat": 4,
 "nbformat_minor": 5
}
