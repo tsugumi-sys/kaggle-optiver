{
 "cells": [
  {
   "cell_type": "code",
   "execution_count": 1,
   "id": "frank-occasion",
   "metadata": {},
   "outputs": [],
   "source": [
    "import pandas as pd\n",
    "import numpy as np\n",
    "import seaborn as sns\n",
    "import matplotlib.pyplot as plt\n",
    "import os\n",
    "import gc\n",
    "from joblib import Parallel, delayed\n",
    "data_dir = '../../../data/'"
   ]
  },
  {
   "cell_type": "code",
   "execution_count": 2,
   "id": "basic-conservative",
   "metadata": {},
   "outputs": [
    {
     "data": {
      "text/html": [
       "<div>\n",
       "<style scoped>\n",
       "    .dataframe tbody tr th:only-of-type {\n",
       "        vertical-align: middle;\n",
       "    }\n",
       "\n",
       "    .dataframe tbody tr th {\n",
       "        vertical-align: top;\n",
       "    }\n",
       "\n",
       "    .dataframe thead th {\n",
       "        text-align: right;\n",
       "    }\n",
       "</style>\n",
       "<table border=\"1\" class=\"dataframe\">\n",
       "  <thead>\n",
       "    <tr style=\"text-align: right;\">\n",
       "      <th></th>\n",
       "      <th>stock_id</th>\n",
       "      <th>time_id</th>\n",
       "      <th>target</th>\n",
       "      <th>log_return1</th>\n",
       "      <th>trade_log_return1</th>\n",
       "    </tr>\n",
       "  </thead>\n",
       "  <tbody>\n",
       "    <tr>\n",
       "      <th>0</th>\n",
       "      <td>0</td>\n",
       "      <td>5</td>\n",
       "      <td>0.004136</td>\n",
       "      <td>0.004499</td>\n",
       "      <td>0.002006</td>\n",
       "    </tr>\n",
       "    <tr>\n",
       "      <th>1</th>\n",
       "      <td>0</td>\n",
       "      <td>11</td>\n",
       "      <td>0.001445</td>\n",
       "      <td>0.001204</td>\n",
       "      <td>0.000901</td>\n",
       "    </tr>\n",
       "    <tr>\n",
       "      <th>2</th>\n",
       "      <td>0</td>\n",
       "      <td>16</td>\n",
       "      <td>0.002168</td>\n",
       "      <td>0.002369</td>\n",
       "      <td>0.001961</td>\n",
       "    </tr>\n",
       "    <tr>\n",
       "      <th>3</th>\n",
       "      <td>0</td>\n",
       "      <td>31</td>\n",
       "      <td>0.002195</td>\n",
       "      <td>0.002574</td>\n",
       "      <td>0.001561</td>\n",
       "    </tr>\n",
       "    <tr>\n",
       "      <th>4</th>\n",
       "      <td>0</td>\n",
       "      <td>62</td>\n",
       "      <td>0.001747</td>\n",
       "      <td>0.001894</td>\n",
       "      <td>0.000871</td>\n",
       "    </tr>\n",
       "  </tbody>\n",
       "</table>\n",
       "</div>"
      ],
      "text/plain": [
       "   stock_id  time_id    target  log_return1  trade_log_return1\n",
       "0         0        5  0.004136     0.004499           0.002006\n",
       "1         0       11  0.001445     0.001204           0.000901\n",
       "2         0       16  0.002168     0.002369           0.001961\n",
       "3         0       31  0.002195     0.002574           0.001561\n",
       "4         0       62  0.001747     0.001894           0.000871"
      ]
     },
     "execution_count": 2,
     "metadata": {},
     "output_type": "execute_result"
    }
   ],
   "source": [
    "def log_return(list_stock_prices):\n",
    "    return np.log(list_stock_prices).diff()\n",
    "\n",
    "def realized_volatility(series_log_return):\n",
    "    return (np.sqrt(np.sum(series_log_return**2)))\n",
    "\n",
    "def get_stock_stat(stock_id: int, dataType='train'):\n",
    "    key = ['stock_id', 'time_id', 'seconds_in_bucket']\n",
    "    \n",
    "    # stock features\n",
    "    df_book = pd.read_parquet(data_dir + f'book_{dataType}.parquet/stock_id={stock_id}')\n",
    "    df_book['stock_id'] = stock_id\n",
    "    cols = key + [col for col in df_book.columns if col not in key]\n",
    "    df_book = df_book[cols]\n",
    "    \n",
    "    df_book['wap1'] = (df_book['bid_price1']*df_book['ask_size1'] + df_book['ask_price1']*df_book['bid_size1']) / (\n",
    "                            df_book['ask_size1'] + df_book['bid_size1'])\n",
    "    df_book['log_return1'] = df_book.groupby(by=['time_id'])['wap1'].apply(log_return).fillna(0)\n",
    "    stock_stat = df_book.groupby(by=['stock_id', 'time_id'])[['log_return1']].agg(realized_volatility).reset_index()\n",
    "    \n",
    "    # trade features\n",
    "    trade_stat = pd.read_parquet(data_dir + f'trade_{dataType}.parquet/stock_id={stock_id}')\n",
    "    trade_stat = trade_stat.sort_values(by=['time_id', 'seconds_in_bucket']).reset_index(drop=True)\n",
    "    trade_stat['stock_id'] = stock_id\n",
    "    cols = key + [col for col in trade_stat.columns if col not in key]\n",
    "    trade_stat = trade_stat[cols]\n",
    "    trade_stat['trade_log_return1'] = trade_stat.groupby(by=['time_id'])['price'].apply(log_return).fillna(0)\n",
    "    trade_stat = trade_stat.groupby(by=['stock_id', 'time_id'])[['trade_log_return1']].agg(realized_volatility).reset_index()                                                                                    \n",
    "                                                                            \n",
    "    # joining book and trade features\n",
    "    stock_stat = stock_stat.merge(trade_stat, on=['stock_id', 'time_id'], how='left')\n",
    "    return stock_stat\n",
    "\n",
    "def get_dataSet(stock_ids: list, dataType='train'):\n",
    "    stock_stat = Parallel(n_jobs=-1)(\n",
    "        delayed(get_stock_stat)(stock_id, dataType)\n",
    "        for stock_id in stock_ids\n",
    "    )\n",
    "    stock_stat_df = pd.concat(stock_stat, ignore_index=True)\n",
    "    return stock_stat_df\n",
    "\n",
    "\n",
    "train = pd.read_csv(data_dir + 'train.csv')\n",
    "train_stock_stat_df = get_dataSet(stock_ids=train['stock_id'].unique(), dataType='train')\n",
    "train = pd.merge(train, train_stock_stat_df, on=['stock_id', 'time_id'], how='left').dropna()\n",
    "train.head()"
   ]
  },
  {
   "cell_type": "code",
   "execution_count": 3,
   "id": "bulgarian-sampling",
   "metadata": {},
   "outputs": [
    {
     "data": {
      "text/html": [
       "<div>\n",
       "<style scoped>\n",
       "    .dataframe tbody tr th:only-of-type {\n",
       "        vertical-align: middle;\n",
       "    }\n",
       "\n",
       "    .dataframe tbody tr th {\n",
       "        vertical-align: top;\n",
       "    }\n",
       "\n",
       "    .dataframe thead th {\n",
       "        text-align: right;\n",
       "    }\n",
       "</style>\n",
       "<table border=\"1\" class=\"dataframe\">\n",
       "  <thead>\n",
       "    <tr style=\"text-align: right;\">\n",
       "      <th></th>\n",
       "      <th>stock_id</th>\n",
       "      <th>time_id</th>\n",
       "      <th>target</th>\n",
       "      <th>log_return1</th>\n",
       "      <th>trade_log_return1</th>\n",
       "    </tr>\n",
       "  </thead>\n",
       "  <tbody>\n",
       "    <tr>\n",
       "      <th>count</th>\n",
       "      <td>428913.000000</td>\n",
       "      <td>428913.00000</td>\n",
       "      <td>428913.000000</td>\n",
       "      <td>428913.000000</td>\n",
       "      <td>428913.000000</td>\n",
       "    </tr>\n",
       "    <tr>\n",
       "      <th>mean</th>\n",
       "      <td>62.439185</td>\n",
       "      <td>16039.16021</td>\n",
       "      <td>0.003880</td>\n",
       "      <td>0.004233</td>\n",
       "      <td>0.002669</td>\n",
       "    </tr>\n",
       "    <tr>\n",
       "      <th>std</th>\n",
       "      <td>37.126642</td>\n",
       "      <td>9365.10117</td>\n",
       "      <td>0.002936</td>\n",
       "      <td>0.003586</td>\n",
       "      <td>0.002114</td>\n",
       "    </tr>\n",
       "    <tr>\n",
       "      <th>min</th>\n",
       "      <td>0.000000</td>\n",
       "      <td>5.00000</td>\n",
       "      <td>0.000105</td>\n",
       "      <td>0.000081</td>\n",
       "      <td>0.000000</td>\n",
       "    </tr>\n",
       "    <tr>\n",
       "      <th>25%</th>\n",
       "      <td>30.000000</td>\n",
       "      <td>7854.00000</td>\n",
       "      <td>0.002026</td>\n",
       "      <td>0.002065</td>\n",
       "      <td>0.001392</td>\n",
       "    </tr>\n",
       "    <tr>\n",
       "      <th>50%</th>\n",
       "      <td>63.000000</td>\n",
       "      <td>15853.00000</td>\n",
       "      <td>0.003048</td>\n",
       "      <td>0.003159</td>\n",
       "      <td>0.002040</td>\n",
       "    </tr>\n",
       "    <tr>\n",
       "      <th>75%</th>\n",
       "      <td>96.000000</td>\n",
       "      <td>23994.00000</td>\n",
       "      <td>0.004738</td>\n",
       "      <td>0.005108</td>\n",
       "      <td>0.003191</td>\n",
       "    </tr>\n",
       "    <tr>\n",
       "      <th>max</th>\n",
       "      <td>126.000000</td>\n",
       "      <td>32767.00000</td>\n",
       "      <td>0.070321</td>\n",
       "      <td>0.086421</td>\n",
       "      <td>0.047143</td>\n",
       "    </tr>\n",
       "  </tbody>\n",
       "</table>\n",
       "</div>"
      ],
      "text/plain": [
       "            stock_id       time_id         target    log_return1  \\\n",
       "count  428913.000000  428913.00000  428913.000000  428913.000000   \n",
       "mean       62.439185   16039.16021       0.003880       0.004233   \n",
       "std        37.126642    9365.10117       0.002936       0.003586   \n",
       "min         0.000000       5.00000       0.000105       0.000081   \n",
       "25%        30.000000    7854.00000       0.002026       0.002065   \n",
       "50%        63.000000   15853.00000       0.003048       0.003159   \n",
       "75%        96.000000   23994.00000       0.004738       0.005108   \n",
       "max       126.000000   32767.00000       0.070321       0.086421   \n",
       "\n",
       "       trade_log_return1  \n",
       "count      428913.000000  \n",
       "mean            0.002669  \n",
       "std             0.002114  \n",
       "min             0.000000  \n",
       "25%             0.001392  \n",
       "50%             0.002040  \n",
       "75%             0.003191  \n",
       "max             0.047143  "
      ]
     },
     "execution_count": 3,
     "metadata": {},
     "output_type": "execute_result"
    }
   ],
   "source": [
    "train.describe()"
   ]
  },
  {
   "cell_type": "code",
   "execution_count": 4,
   "id": "protecting-pipeline",
   "metadata": {},
   "outputs": [
    {
     "data": {
      "text/plain": [
       "stock_id             0\n",
       "time_id              0\n",
       "target               0\n",
       "log_return1          0\n",
       "trade_log_return1    0\n",
       "dtype: int64"
      ]
     },
     "execution_count": 4,
     "metadata": {},
     "output_type": "execute_result"
    }
   ],
   "source": [
    "train.isna().sum()"
   ]
  },
  {
   "cell_type": "code",
   "execution_count": 5,
   "id": "concerned-belgium",
   "metadata": {},
   "outputs": [
    {
     "data": {
      "text/plain": [
       "<AxesSubplot:xlabel='log_return1'>"
      ]
     },
     "execution_count": 5,
     "metadata": {},
     "output_type": "execute_result"
    },
    {
     "data": {
      "image/png": "[encoded data removed]",
      "text/plain": [
       "<Figure size 432x288 with 1 Axes>"
      ]
     },
     "metadata": {
      "needs_background": "light"
     },
     "output_type": "display_data"
    }
   ],
   "source": [
    "sns.boxplot(x=train['log_return1'])"
   ]
  },
  {
   "cell_type": "code",
   "execution_count": 10,
   "id": "black-cartridge",
   "metadata": {},
   "outputs": [
    {
     "name": "stdout",
     "output_type": "stream",
     "text": [
      "98.08096280597697\n"
     ]
    }
   ],
   "source": [
    "outliers = train.loc[train['log_return1'] < 0.015]\n",
    "print(100 * (len(outliers)/len(train)))"
   ]
  },
  {
   "cell_type": "code",
   "execution_count": 7,
   "id": "geographic-passage",
   "metadata": {},
   "outputs": [
    {
     "data": {
      "text/plain": [
       "3014"
      ]
     },
     "execution_count": 7,
     "metadata": {},
     "output_type": "execute_result"
    }
   ],
   "source": [
    "len(outliers)"
   ]
  },
  {
   "cell_type": "code",
   "execution_count": null,
   "id": "sustained-folder",
   "metadata": {},
   "outputs": [],
   "source": []
  }
 ],
 "metadata": {
  "kernelspec": {
   "display_name": "Python 3",
   "language": "python",
   "name": "python3"
  },
  "language_info": {
   "codemirror_mode": {
    "name": "ipython",
    "version": 3
   },
   "file_extension": ".py",
   "mimetype": "text/x-python",
   "name": "python",
   "nbconvert_exporter": "python",
   "pygments_lexer": "ipython3",
   "version": "3.7.9"
  }
 },
 "nbformat": 4,
 "nbformat_minor": 5
}
